{
 "cells": [
  {
   "attachments": {},
   "cell_type": "markdown",
   "metadata": {},
   "source": [
    "#### Problem description:\n"
   ]
  },
  {
   "cell_type": "code",
   "execution_count": 1,
   "metadata": {},
   "outputs": [],
   "source": [
    "from typing import List"
   ]
  },
  {
   "cell_type": "code",
   "execution_count": null,
   "metadata": {},
   "outputs": [],
   "source": [
    "\n",
    "class Solution:\n",
    "    @staticmethod\n",
    "    def search(nums: List[int], target: int) -> int:\n",
    "        start = 0\n",
    "        end = len(nums) - 1\n",
    "        while start <= end:\n",
    "            middle = start + (end - start) // 2\n",
    "            if nums[middle] == target:\n",
    "                return middle\n",
    "            elif target > nums[middle]:\n",
    "                start = middle + 1\n",
    "            else:\n",
    "                end = middle - 1\n",
    "        return -1\n",
    "Solution.search(range(-5, 8, 2), 3)"
   ]
  },
  {
   "attachments": {},
   "cell_type": "markdown",
   "metadata": {},
   "source": [
    "#### Problem description:\n",
    "Given a sorted array of distinct integers and a target value, return the index if the target is found. If not, return the index where it would be if it were inserted in order.\n",
    "\n",
    "You must write an algorithm with ```O(log n)``` runtime complexity."
   ]
  },
  {
   "attachments": {},
   "cell_type": "markdown",
   "metadata": {},
   "source": [
    "#### Solution:\n",
    "\n",
    "<p>There are basically three possible scanerios:</p>\n",
    "\n",
    "1. the target value is larger than the rightmost value, then direct return ```len(nums)```\n",
    "2. the target value is smaller than the leftmost value, then direct return ```0```\n",
    "3. the target value is in the between and this scanerio is more complex, there are two ending conditions:\n",
    "- when ```left=right``` and both ```nums[left]``` and ```nums[right]``` are larger than the target, as ```nums[middle] > target```, this will invoke the statement ```right = middle - 1``` and the ```while``` loop will stop. The correct postion should be between ```right=middle-1=left-1``` and ```left```, which is ```left``` or ```right + 1``` or ```middle```\n",
    "- when ```left=right``` and both ```nums[left]``` and ```nums[right]``` are smaller than the target, as ```nums[middle] < target```, this will invoke the statement ```left = middle + 1``` and the ```while``` loop will stop. The correct postion should be between ```right=middle=left-1``` and ```left```, which is ```left``` or ```right + 1``` or ```middle + 1```\n",
    "- combining the two cases, the answer should be either ```left``` or ```right + 1```"
   ]
  },
  {
   "cell_type": "markdown",
   "metadata": {},
   "source": []
  },
  {
   "cell_type": "code",
   "execution_count": 10,
   "metadata": {},
   "outputs": [
    {
     "name": "stdout",
     "output_type": "stream",
     "text": [
      "in this round, the left is 0, the right is 6, the middle is 3\n",
      "the value at index 3 is larger than the target, the right will start from index 2\n",
      "in this round, the left is 0, the right is 2, the middle is 1\n",
      "the value at index 1 is larger than the target, the right will start from index 0\n",
      "in this round, the left is 0, the right is 0, the middle is 0\n",
      "the value at index 0 is smaller than the target, the left will start from index 1\n"
     ]
    },
    {
     "data": {
      "text/plain": [
       "1"
      ]
     },
     "execution_count": 10,
     "metadata": {},
     "output_type": "execute_result"
    }
   ],
   "source": [
    "class Solution:\n",
    "    @staticmethod\n",
    "    def searchInsert(nums: List[int], target: int) -> int:\n",
    "        left = 0\n",
    "        right = len(nums) - 1\n",
    "        if target < nums[left]:\n",
    "            return left\n",
    "        elif target > nums[right]:\n",
    "            return right + 1\n",
    "        else:\n",
    "            while left <= right:\n",
    "                middle = (left + right) // 2\n",
    "                print (f\"in this round, the left is {left}, the right is {right}, the middle is {middle}\")\n",
    "                if nums[middle] == target:\n",
    "                    print (f\"the search is done and the target is found at index {middle}\")\n",
    "                    return middle\n",
    "                elif nums[middle] < target:\n",
    "                    left = middle + 1\n",
    "                    print (f\"the value at index {middle} is smaller than the target, the left will start from index {middle + 1}\")\n",
    "                else:\n",
    "                    right = middle - 1\n",
    "                    print (f\"the value at index {middle} is larger than the target, the right will start from index {middle -1}\")\n",
    "        return right + 1\n",
    "Solution.searchInsert([1,3,4,5,6,8, 10], 2)"
   ]
  },
  {
   "attachments": {},
   "cell_type": "markdown",
   "metadata": {},
   "source": [
    "### 744. Find Smallest Letter Greater Than Target\n",
    "#### Problem description\n",
    "\n",
    "You are given an array of characters ```letters``` that is sorted in non-decreasing order, and a character ```target```. There are at least two different characters in ```letters```.\n",
    "\n",
    "Return the smallest character in ```letters``` that is lexicographically greater than ```target```. If such a character does not exist, return the first character in ```letters```."
   ]
  },
  {
   "attachments": {},
   "cell_type": "markdown",
   "metadata": {},
   "source": [
    "#### Solution 1:\n",
    "Basic idea: remove all duplicated items in ```letters``` as well as remove ```target``` and then problem become <span style=\"color:red\">**where to insert the element**</span>  \n",
    "1. Still there are two ending scanerios:\n",
    "- when ```left = right``` and both ```letters[left] < target``` and ```letters[right] < target```, as the condition ```letters[middle] < target``` is invoked, ```left``` will become ```middle + 1```. In this situation, ```left = middle + 1 = right + 1``` is exactly the position where the ```target``` should be inserted\n",
    "- when ```left = right``` and both ```letters[left] > target``` and ```letters[right] > target```, as the condition ```letters[middle] > target``` is invoked, ```right``` will become ```middle - 1```. In this situation, ```right = middle - 1 = left - 1 ```, the ```target``` should be inserted in front of ```right```, which is ```right + 1 = middle = left```\n",
    "- combining the two, the position should either be ```left``` or ```right + 1```\n"
   ]
  },
  {
   "cell_type": "code",
   "execution_count": 4,
   "metadata": {},
   "outputs": [
    {
     "name": "stdout",
     "output_type": "stream",
     "text": [
      "['f', 'g']\n"
     ]
    }
   ],
   "source": [
    "class Solution:\n",
    "    @staticmethod\n",
    "    def nextGreatestLetter(letters: List[str], target: str) -> str:\n",
    "        if target >= letters[-1]:\n",
    "            return letters[0]\n",
    "        if target < letters[0]:\n",
    "            return letters[0]\n",
    "        unique = []\n",
    "        for letter in letters:\n",
    "            if letter not in unique and letter != target:\n",
    "                unique.append(letter)\n",
    "            else:\n",
    "                continue\n",
    "        print (unique)\n",
    "        left = 0\n",
    "        right = len(unique) - 1\n",
    "        while left <= right:\n",
    "            middle = (left + right) // 2\n",
    "            if letters[middle] > target:\n",
    "                right = middle - 1\n",
    "            else:\n",
    "                left = middle + 1\n",
    "        return unique[left]\n",
    "Solution.nextGreatestLetter([\"c\", \"f\", \"g\"], \"c\")"
   ]
  },
  {
   "cell_type": "code",
   "execution_count": 3,
   "metadata": {},
   "outputs": [
    {
     "name": "stdout",
     "output_type": "stream",
     "text": [
      "0\n"
     ]
    }
   ],
   "source": [
    "class Solution:\n",
    "    @staticmethod\n",
    "    def countNegatives(grid: List[List[int]]) -> int:\n",
    "        count = 0\n",
    "        target = 0\n",
    "        for i in range(len(grid)):\n",
    "            if grid[i][0] < target:\n",
    "                count += len(grid[i])\n",
    "                continue\n",
    "            if grid[i][-1] > target:\n",
    "                continue\n",
    "            print (count)\n",
    "            left = 0\n",
    "            right = len(grid[i]) - 1\n",
    "            while left <= right:\n",
    "                middle = (left + right) // 2\n",
    "                if grid[i][middle] == target:\n",
    "                    count += len(grid[i]) - middle - 1\n",
    "                    break\n",
    "                elif grid[i][middle] > target:\n",
    "                    left = middle + 1\n",
    "                else:\n",
    "                    right = middle - 1\n",
    "            count += len(grid[i]) - left\n",
    "        return count\n",
    "Solution.countNegatives([[3,2],[1,0]])"
   ]
  },
  {
   "cell_type": "code",
   "execution_count": null,
   "metadata": {},
   "outputs": [],
   "source": []
  }
 ],
 "metadata": {
  "kernelspec": {
   "display_name": "base",
   "language": "python",
   "name": "python3"
  },
  "language_info": {
   "codemirror_mode": {
    "name": "ipython",
    "version": 3
   },
   "file_extension": ".py",
   "mimetype": "text/x-python",
   "name": "python",
   "nbconvert_exporter": "python",
   "pygments_lexer": "ipython3",
   "version": "3.9.13 (main, Aug 25 2022, 18:29:29) \n[Clang 12.0.0 ]"
  },
  "orig_nbformat": 4,
  "vscode": {
   "interpreter": {
    "hash": "3cd22f66022d55891ae8fe5b90c5bb267ed493655fc9d7e6f7b2c527471ed96b"
   }
  }
 },
 "nbformat": 4,
 "nbformat_minor": 2
}
