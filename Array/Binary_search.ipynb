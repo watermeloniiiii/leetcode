{
 "cells": [
  {
   "cell_type": "code",
   "execution_count": null,
   "metadata": {},
   "outputs": [],
   "source": [
    "from typing import List\n",
    "class Solution:\n",
    "    @staticmethod\n",
    "    def search(nums: List[int], target: int) -> int:\n",
    "        start = 0\n",
    "        end = len(nums) - 1\n",
    "        while start <= end:\n",
    "            middle = start + (end - start) // 2\n",
    "            if nums[middle] == target:\n",
    "                return middle\n",
    "            elif target > nums[middle]:\n",
    "                start = middle + 1\n",
    "            else:\n",
    "                end = middle - 1\n",
    "        return -1\n",
    "Solution.search(range(-5, 8, 2), 3)"
   ]
  },
  {
   "cell_type": "code",
   "execution_count": 1,
   "metadata": {},
   "outputs": [
    {
     "ename": "NameError",
     "evalue": "name 'List' is not defined",
     "output_type": "error",
     "traceback": [
      "\u001b[0;31m---------------------------------------------------------------------------\u001b[0m",
      "\u001b[0;31mNameError\u001b[0m                                 Traceback (most recent call last)",
      "Cell \u001b[0;32mIn[1], line 1\u001b[0m\n\u001b[0;32m----> 1\u001b[0m \u001b[39mclass\u001b[39;00m \u001b[39mSolution\u001b[39;00m:\n\u001b[1;32m      2\u001b[0m     \u001b[39m@staticmethod\u001b[39m\n\u001b[1;32m      3\u001b[0m     \u001b[39mdef\u001b[39;00m \u001b[39msearchInsert\u001b[39m(nums: List[\u001b[39mint\u001b[39m], target: \u001b[39mint\u001b[39m) \u001b[39m-\u001b[39m\u001b[39m>\u001b[39m \u001b[39mint\u001b[39m:\n\u001b[1;32m      4\u001b[0m         left \u001b[39m=\u001b[39m \u001b[39m0\u001b[39m\n",
      "Cell \u001b[0;32mIn[1], line 3\u001b[0m, in \u001b[0;36mSolution\u001b[0;34m()\u001b[0m\n\u001b[1;32m      1\u001b[0m \u001b[39mclass\u001b[39;00m \u001b[39mSolution\u001b[39;00m:\n\u001b[1;32m      2\u001b[0m     \u001b[39m@staticmethod\u001b[39m\n\u001b[0;32m----> 3\u001b[0m     \u001b[39mdef\u001b[39;00m \u001b[39msearchInsert\u001b[39m(nums: List[\u001b[39mint\u001b[39m], target: \u001b[39mint\u001b[39m) \u001b[39m-\u001b[39m\u001b[39m>\u001b[39m \u001b[39mint\u001b[39m:\n\u001b[1;32m      4\u001b[0m         left \u001b[39m=\u001b[39m \u001b[39m0\u001b[39m\n\u001b[1;32m      5\u001b[0m         right \u001b[39m=\u001b[39m \u001b[39mlen\u001b[39m(nums) \u001b[39m-\u001b[39m \u001b[39m1\u001b[39m\n",
      "\u001b[0;31mNameError\u001b[0m: name 'List' is not defined"
     ]
    }
   ],
   "source": [
    "class Solution:\n",
    "    @staticmethod\n",
    "    def searchInsert(nums: List[int], target: int) -> int:\n",
    "        left = 0\n",
    "        right = len(nums) - 1\n",
    "        if target < nums[left]:\n",
    "            return left\n",
    "        elif target > nums[right]:\n",
    "            return right + 1\n",
    "        else:\n",
    "            while left <= right:\n",
    "                middle = (left + right) // 2\n",
    "                if nums[middle] == target:\n",
    "                    return middle\n",
    "                elif nums[middle] < target:\n",
    "                    left = middle + 1\n",
    "                else:\n",
    "                    right = middle - 1\n",
    "                print (left, middle, right)\n",
    "        return middle\n",
    "Solution.searchInsert([1,3,5,6], 2)"
   ]
  },
  {
   "cell_type": "code",
   "execution_count": null,
   "metadata": {},
   "outputs": [],
   "source": []
  }
 ],
 "metadata": {
  "kernelspec": {
   "display_name": "geo",
   "language": "python",
   "name": "python3"
  },
  "language_info": {
   "codemirror_mode": {
    "name": "ipython",
    "version": 3
   },
   "file_extension": ".py",
   "mimetype": "text/x-python",
   "name": "python",
   "nbconvert_exporter": "python",
   "pygments_lexer": "ipython3",
   "version": "3.10.10"
  },
  "orig_nbformat": 4,
  "vscode": {
   "interpreter": {
    "hash": "b360d09a24cd510aa9fcb35ddb8732533bc2e9494b5a10ca81c26f7cbd49153f"
   }
  }
 },
 "nbformat": 4,
 "nbformat_minor": 2
}
